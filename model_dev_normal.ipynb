{
 "cells": [
  {
   "cell_type": "markdown",
   "metadata": {
    "colab_type": "text",
    "id": "U7UUo-cx8dEi"
   },
   "source": [
    "# Model development"
   ]
  },
  {
   "cell_type": "markdown",
   "metadata": {},
   "source": [
    "* <b> Training data </b> : Taken from original data set (<b>without</b> `resampling`)\n",
    "* <b> Testing data </b>: Taken from original data set (without `resampling`)\n",
    "* <b> Feature imputation </b>: see `data_exploration` notebook\n",
    "* <b> Stacked models </b>: combines the decisions from multiple models to improve the overall performance. \n",
    "    - Base classifiers: `Decision Tree`, `AdaBoost`, `Random Forest`\n",
    "    - Meta classifer: `Logistic Regression`\n",
    "    - Predictions from `base classifiers` are stacked to generate a new training set that will be fitted into `meta classifier` to make final predictions. \n"
   ]
  },
  {
   "cell_type": "code",
   "execution_count": 1,
   "metadata": {
    "colab": {
     "base_uri": "https://localhost:8080/",
     "height": 122
    },
    "colab_type": "code",
    "executionInfo": {
     "elapsed": 18367,
     "status": "ok",
     "timestamp": 1588672213252,
     "user": {
      "displayName": "Trinh Khanh",
      "photoUrl": "",
      "userId": "17861245512727474138"
     },
     "user_tz": -420
    },
    "id": "3EBIbE9SlH4D",
    "outputId": "ad374490-9ffc-495f-94f0-d9e61847d8f8"
   },
   "outputs": [
    {
     "name": "stdout",
     "output_type": "stream",
     "text": [
      "Go to this URL in a browser: https://accounts.google.com/o/oauth2/auth?client_id=947318989803-6bn6qk8qdgf4n4g3pfee6491hc0brc4i.apps.googleusercontent.com&redirect_uri=urn%3aietf%3awg%3aoauth%3a2.0%3aoob&response_type=code&scope=email%20https%3a%2f%2fwww.googleapis.com%2fauth%2fdocs.test%20https%3a%2f%2fwww.googleapis.com%2fauth%2fdrive%20https%3a%2f%2fwww.googleapis.com%2fauth%2fdrive.photos.readonly%20https%3a%2f%2fwww.googleapis.com%2fauth%2fpeopleapi.readonly\n",
      "\n",
      "Enter your authorization code:\n",
      "··········\n",
      "Mounted at /content/drive\n"
     ]
    }
   ],
   "source": [
    "colab = True\n",
    "if colab:\n",
    "    import sys\n",
    "    from google.colab import drive\n",
    "    drive.mount('/content/drive',force_remount=True)\n",
    "    sys.path.append('drive/My Drive/Colab Notebooks/Income_prediction')\n",
    "    prefix = 'drive/My Drive/Colab Notebooks/Income_prediction/'\n",
    "else:\n",
    "    prefix = ''"
   ]
  },
  {
   "cell_type": "code",
   "execution_count": 2,
   "metadata": {
    "colab": {
     "base_uri": "https://localhost:8080/",
     "height": 105
    },
    "colab_type": "code",
    "executionInfo": {
     "elapsed": 2986,
     "status": "ok",
     "timestamp": 1588672222011,
     "user": {
      "displayName": "Trinh Khanh",
      "photoUrl": "",
      "userId": "17861245512727474138"
     },
     "user_tz": -420
    },
    "id": "53PSN91alDyO",
    "outputId": "5ad542fb-ceeb-4c95-e1d0-0d13c72537c9"
   },
   "outputs": [
    {
     "name": "stderr",
     "output_type": "stream",
     "text": [
      "/usr/local/lib/python3.6/dist-packages/statsmodels/tools/_testing.py:19: FutureWarning: pandas.util.testing is deprecated. Use the functions in the public API at pandas.testing instead.\n",
      "  import pandas.util.testing as tm\n",
      "/usr/local/lib/python3.6/dist-packages/sklearn/externals/joblib/__init__.py:15: FutureWarning: sklearn.externals.joblib is deprecated in 0.21 and will be removed in 0.23. Please import this functionality directly from joblib, which can be installed with: pip install joblib. If this warning is raised when loading pickled models, you may need to re-serialize those models with scikit-learn 0.21+.\n",
      "  warnings.warn(msg, category=FutureWarning)\n"
     ]
    }
   ],
   "source": [
    "import pandas as pd\n",
    "import numpy as np\n",
    "import time\n",
    "import seaborn as sns\n",
    "import model\n",
    "import joblib\n",
    "import warnings"
   ]
  },
  {
   "cell_type": "code",
   "execution_count": 3,
   "metadata": {
    "colab": {
     "base_uri": "https://localhost:8080/",
     "height": 1000
    },
    "colab_type": "code",
    "executionInfo": {
     "elapsed": 913256,
     "status": "ok",
     "timestamp": 1588673159021,
     "user": {
      "displayName": "Trinh Khanh",
      "photoUrl": "",
      "userId": "17861245512727474138"
     },
     "user_tz": -420
    },
    "id": "nfFvpI_W8dEq",
    "outputId": "26fafb37-64ff-4c11-862a-1ab30133c8f4"
   },
   "outputs": [
    {
     "name": "stdout",
     "output_type": "stream",
     "text": [
      "Start loading imputed data...\n",
      "Done loading imputed data! \n",
      "\n",
      "****************************************************************************************************\n",
      "****************************************************************************************************\n",
      "\n",
      "Start getting out of fold set for DecisionTreeClassifier...\n",
      "Base classifier DecisionTreeClassifier_0: AUC = 0.80 | Accuracy = 0.94% | Precision score: 0.86 | Recall score: 0.12\n",
      "Base classifier DecisionTreeClassifier_1: AUC = 0.80 | Accuracy = 0.94% | Precision score: 0.83 | Recall score: 0.11\n",
      "Base classifier DecisionTreeClassifier_2: AUC = 0.80 | Accuracy = 0.94% | Precision score: 0.83 | Recall score: 0.11\n",
      "Base classifier DecisionTreeClassifier_3: AUC = 0.81 | Accuracy = 0.95% | Precision score: 0.87 | Recall score: 0.13\n",
      "Base classifier DecisionTreeClassifier_4: AUC = 0.81 | Accuracy = 0.94% | Precision score: 0.84 | Recall score: 0.13\n",
      "Done getting out of fold set for DecisionTreeClassifier. Time taken = 6.2(s) \n",
      "\n",
      "Start getting out of fold set for AdaBoostClassifier...\n"
     ]
    },
    {
     "name": "stderr",
     "output_type": "stream",
     "text": [
      "/usr/local/lib/python3.6/dist-packages/sklearn/utils/validation.py:760: DataConversionWarning: A column-vector y was passed when a 1d array was expected. Please change the shape of y to (n_samples, ), for example using ravel().\n",
      "  y = column_or_1d(y, warn=True)\n"
     ]
    },
    {
     "name": "stdout",
     "output_type": "stream",
     "text": [
      "Base classifier AdaBoostClassifier_0: AUC = 0.94 | Accuracy = 0.95% | Precision score: 0.84 | Recall score: 0.22\n"
     ]
    },
    {
     "name": "stderr",
     "output_type": "stream",
     "text": [
      "/usr/local/lib/python3.6/dist-packages/sklearn/utils/validation.py:760: DataConversionWarning: A column-vector y was passed when a 1d array was expected. Please change the shape of y to (n_samples, ), for example using ravel().\n",
      "  y = column_or_1d(y, warn=True)\n"
     ]
    },
    {
     "name": "stdout",
     "output_type": "stream",
     "text": [
      "Base classifier AdaBoostClassifier_1: AUC = 0.94 | Accuracy = 0.95% | Precision score: 0.82 | Recall score: 0.22\n"
     ]
    },
    {
     "name": "stderr",
     "output_type": "stream",
     "text": [
      "/usr/local/lib/python3.6/dist-packages/sklearn/utils/validation.py:760: DataConversionWarning: A column-vector y was passed when a 1d array was expected. Please change the shape of y to (n_samples, ), for example using ravel().\n",
      "  y = column_or_1d(y, warn=True)\n"
     ]
    },
    {
     "name": "stdout",
     "output_type": "stream",
     "text": [
      "Base classifier AdaBoostClassifier_2: AUC = 0.94 | Accuracy = 0.95% | Precision score: 0.84 | Recall score: 0.22\n"
     ]
    },
    {
     "name": "stderr",
     "output_type": "stream",
     "text": [
      "/usr/local/lib/python3.6/dist-packages/sklearn/utils/validation.py:760: DataConversionWarning: A column-vector y was passed when a 1d array was expected. Please change the shape of y to (n_samples, ), for example using ravel().\n",
      "  y = column_or_1d(y, warn=True)\n"
     ]
    },
    {
     "name": "stdout",
     "output_type": "stream",
     "text": [
      "Base classifier AdaBoostClassifier_3: AUC = 0.94 | Accuracy = 0.95% | Precision score: 0.84 | Recall score: 0.22\n"
     ]
    },
    {
     "name": "stderr",
     "output_type": "stream",
     "text": [
      "/usr/local/lib/python3.6/dist-packages/sklearn/utils/validation.py:760: DataConversionWarning: A column-vector y was passed when a 1d array was expected. Please change the shape of y to (n_samples, ), for example using ravel().\n",
      "  y = column_or_1d(y, warn=True)\n"
     ]
    },
    {
     "name": "stdout",
     "output_type": "stream",
     "text": [
      "Base classifier AdaBoostClassifier_4: AUC = 0.94 | Accuracy = 0.95% | Precision score: 0.81 | Recall score: 0.23\n",
      "Done getting out of fold set for AdaBoostClassifier. Time taken = 844.2(s) \n",
      "\n",
      "Start getting out of fold set for RandomForestClassifier...\n"
     ]
    },
    {
     "name": "stderr",
     "output_type": "stream",
     "text": [
      "drive/My Drive/Colab Notebooks/Income_prediction/model.py:91: DataConversionWarning: A column-vector y was passed when a 1d array was expected. Please change the shape of y to (n_samples,), for example using ravel().\n",
      "  clf.fit(X_train, y_train)\n"
     ]
    },
    {
     "name": "stdout",
     "output_type": "stream",
     "text": [
      "Base classifier RandomForestClassifier_0: AUC = 0.90 | Accuracy = 0.63% | Precision score: 0.13 | Recall score: 0.92\n"
     ]
    },
    {
     "name": "stderr",
     "output_type": "stream",
     "text": [
      "drive/My Drive/Colab Notebooks/Income_prediction/model.py:91: DataConversionWarning: A column-vector y was passed when a 1d array was expected. Please change the shape of y to (n_samples,), for example using ravel().\n",
      "  clf.fit(X_train, y_train)\n"
     ]
    },
    {
     "name": "stdout",
     "output_type": "stream",
     "text": [
      "Base classifier RandomForestClassifier_1: AUC = 0.90 | Accuracy = 0.63% | Precision score: 0.14 | Recall score: 0.92\n"
     ]
    },
    {
     "name": "stderr",
     "output_type": "stream",
     "text": [
      "drive/My Drive/Colab Notebooks/Income_prediction/model.py:91: DataConversionWarning: A column-vector y was passed when a 1d array was expected. Please change the shape of y to (n_samples,), for example using ravel().\n",
      "  clf.fit(X_train, y_train)\n"
     ]
    },
    {
     "name": "stdout",
     "output_type": "stream",
     "text": [
      "Base classifier RandomForestClassifier_2: AUC = 0.90 | Accuracy = 0.64% | Precision score: 0.14 | Recall score: 0.93\n"
     ]
    },
    {
     "name": "stderr",
     "output_type": "stream",
     "text": [
      "drive/My Drive/Colab Notebooks/Income_prediction/model.py:91: DataConversionWarning: A column-vector y was passed when a 1d array was expected. Please change the shape of y to (n_samples,), for example using ravel().\n",
      "  clf.fit(X_train, y_train)\n"
     ]
    },
    {
     "name": "stdout",
     "output_type": "stream",
     "text": [
      "Base classifier RandomForestClassifier_3: AUC = 0.90 | Accuracy = 0.64% | Precision score: 0.14 | Recall score: 0.93\n"
     ]
    },
    {
     "name": "stderr",
     "output_type": "stream",
     "text": [
      "drive/My Drive/Colab Notebooks/Income_prediction/model.py:91: DataConversionWarning: A column-vector y was passed when a 1d array was expected. Please change the shape of y to (n_samples,), for example using ravel().\n",
      "  clf.fit(X_train, y_train)\n"
     ]
    },
    {
     "name": "stdout",
     "output_type": "stream",
     "text": [
      "Base classifier RandomForestClassifier_4: AUC = 0.90 | Accuracy = 0.64% | Precision score: 0.14 | Recall score: 0.93\n",
      "Done getting out of fold set for RandomForestClassifier. Time taken = 53.4(s) \n",
      "\n",
      "Start fitting Meta classifier...\n"
     ]
    },
    {
     "name": "stderr",
     "output_type": "stream",
     "text": [
      "/usr/local/lib/python3.6/dist-packages/sklearn/utils/validation.py:760: DataConversionWarning: A column-vector y was passed when a 1d array was expected. Please change the shape of y to (n_samples, ), for example using ravel().\n",
      "  y = column_or_1d(y, warn=True)\n"
     ]
    },
    {
     "name": "stdout",
     "output_type": "stream",
     "text": [
      "Accuracy: 83.40%\n",
      "Meta Classifier AUC: 93.93%\n",
      "Precision score: 0.26\n",
      "Recall score: 0.89\n",
      "Done fitting meta classifier. Time taken = 0.3(s) \n",
      "\n",
      "Start dumping Meta classifier...\n",
      "Done dumping Meta classifier ! \n",
      "\n"
     ]
    }
   ],
   "source": [
    "def build_model(X_train, y_train, X_test, y_test, n_fold, seed):\n",
    "    modeler = model.Model()\n",
    "    clf_list = [\n",
    "                modeler.clf_0, \n",
    "                modeler.clf_1, \n",
    "                modeler.clf_2, \n",
    "                ]\n",
    "    meta_train, meta_test = modeler.generate_metadata(X_train, y_train, X_test, y_test, clf_list, modeler.generate_oof, n_fold, seed)\n",
    "    # Fit Meta classifier\n",
    "    meta_clf = modeler.model_predict(modeler.clf_3, meta_train, y_train, meta_test, y_test, seed)\n",
    "    print('Start dumping Meta classifier...')\n",
    "    joblib.dump(meta_clf, 'meta_clf.pkl') \n",
    "    print('Done dumping Meta classifier ! \\n')\n",
    "    return meta_clf, meta_train, meta_test\n",
    "if __name__=='__main__':\n",
    "    print('Start loading imputed data...')\n",
    "    X_train = pd.read_csv(prefix+'normal_data/X_train.csv')\n",
    "    y_train = pd.read_csv(prefix+'normal_data/y_train.csv')\n",
    "    X_test = pd.read_csv(prefix+'normal_data/X_test.csv')\n",
    "    y_test = pd.read_csv(prefix+'normal_data/y_test.csv')\n",
    "    print('Done loading imputed data! \\n')\n",
    "    print('*'*100) \n",
    "    print('*'*100+'\\n')\n",
    "    seed = 1003\n",
    "    n_fold = 5\n",
    "    modeler = model.Model()\n",
    "    colab = False\n",
    "    url = prefix+'census/census-income.data'\n",
    "    meta_clf, meta_train, meta_test = build_model(X_train, y_train, X_test, y_test, n_fold, seed)"
   ]
  },
  {
   "cell_type": "markdown",
   "metadata": {
    "colab_type": "text",
    "id": "G3z2wODU8dEt"
   },
   "source": [
    "### Base classifier correlation matrix"
   ]
  },
  {
   "cell_type": "code",
   "execution_count": 4,
   "metadata": {
    "colab": {
     "base_uri": "https://localhost:8080/",
     "height": 394
    },
    "colab_type": "code",
    "executionInfo": {
     "elapsed": 1237,
     "status": "ok",
     "timestamp": 1588673160327,
     "user": {
      "displayName": "Trinh Khanh",
      "photoUrl": "",
      "userId": "17861245512727474138"
     },
     "user_tz": -420
    },
    "id": "0YV-s10_8dEt",
    "outputId": "5e28cf3f-31c1-4878-8e00-fd272af2b30f"
   },
   "outputs": [
    {
     "data": {
      "text/plain": [
       "<matplotlib.axes._subplots.AxesSubplot at 0x7fe06642a3c8>"
      ]
     },
     "execution_count": 4,
     "metadata": {
      "tags": []
     },
     "output_type": "execute_result"
    },
    {
     "data": {
      "image/png": "[encoded data removed]",
      "text/plain": [
       "<Figure size 432x288 with 2 Axes>"
      ]
     },
     "metadata": {
      "needs_background": "light",
      "tags": []
     },
     "output_type": "display_data"
    }
   ],
   "source": [
    "corr = meta_train.corr()\n",
    "sns.heatmap(corr, \n",
    "        xticklabels=corr.columns,\n",
    "        yticklabels=corr.columns)"
   ]
  },
  {
   "cell_type": "markdown",
   "metadata": {},
   "source": [
    "=> Random Forest and AdaBoost are positively correlated => reduce the variance of base classifers\n",
    "\n",
    "=> Further improvement: Replace Random Forest or AdaBoost by other algorithms"
   ]
  }
 ],
 "metadata": {
  "accelerator": "GPU",
  "colab": {
   "collapsed_sections": [],
   "name": "model_dev_normal.ipynb",
   "provenance": []
  },
  "kernelspec": {
   "display_name": "Python 3",
   "language": "python",
   "name": "python3"
  },
  "language_info": {
   "codemirror_mode": {
    "name": "ipython",
    "version": 3
   },
   "file_extension": ".py",
   "mimetype": "text/x-python",
   "name": "python",
   "nbconvert_exporter": "python",
   "pygments_lexer": "ipython3",
   "version": "3.7.4"
  }
 },
 "nbformat": 4,
 "nbformat_minor": 1
}
