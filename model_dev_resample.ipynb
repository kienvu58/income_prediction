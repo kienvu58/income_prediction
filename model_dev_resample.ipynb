{
 "cells": [
  {
   "cell_type": "markdown",
   "metadata": {
    "colab_type": "text",
    "id": "U7UUo-cx8dEi"
   },
   "source": [
    "# Model development"
   ]
  },
  {
   "cell_type": "markdown",
   "metadata": {},
   "source": [
    "* <b> Training data </b> : Taken from original data set (<b>with</b> `resampling`)\n",
    "* <b> Testing data </b>: Taken from original data set (without `resampling`)\n",
    "* <b> Feature imputation </b>: see `data_exploration` notebook\n",
    "* <b> Stacked models </b>: combines the decisions from multiple models to improve the overall performance. \n",
    "    - Base classifiers: `Decision Tree`, `AdaBoost`, `Random Forest`\n",
    "    - Meta classifer: `Logistic Regression`\n",
    "    - Predictions from `base classifiers` are stacked to generate a new training set that will be fitted into `meta classifier` to make final predictions. \n"
   ]
  },
  {
   "cell_type": "code",
   "execution_count": 0,
   "metadata": {
    "colab": {
     "base_uri": "https://localhost:8080/",
     "height": 34
    },
    "colab_type": "code",
    "executionInfo": {
     "elapsed": 3263,
     "status": "ok",
     "timestamp": 1588667285193,
     "user": {
      "displayName": "Trinh Khanh",
      "photoUrl": "",
      "userId": "17861245512727474138"
     },
     "user_tz": -420
    },
    "id": "3EBIbE9SlH4D",
    "outputId": "ba79efc4-7df7-4db0-e369-bc39cd4eceef"
   },
   "outputs": [
    {
     "name": "stdout",
     "output_type": "stream",
     "text": [
      "Mounted at /content/drive\n"
     ]
    }
   ],
   "source": [
    "colab = True\n",
    "if colab:\n",
    "    import sys\n",
    "    from google.colab import drive\n",
    "    drive.mount('/content/drive',force_remount=True)\n",
    "    sys.path.append('drive/My Drive/Colab Notebooks/Income_prediction')\n",
    "    prefix = 'drive/My Drive/Colab Notebooks/Income_prediction/'\n",
    "else:\n",
    "    prefix = ''"
   ]
  },
  {
   "cell_type": "code",
   "execution_count": 0,
   "metadata": {
    "colab": {
     "base_uri": "https://localhost:8080/",
     "height": 105
    },
    "colab_type": "code",
    "executionInfo": {
     "elapsed": 3406,
     "status": "ok",
     "timestamp": 1588667290212,
     "user": {
      "displayName": "Trinh Khanh",
      "photoUrl": "",
      "userId": "17861245512727474138"
     },
     "user_tz": -420
    },
    "id": "53PSN91alDyO",
    "outputId": "a74d59ce-3df0-4a49-8b8d-8546625fcc23"
   },
   "outputs": [
    {
     "name": "stderr",
     "output_type": "stream",
     "text": [
      "/usr/local/lib/python3.6/dist-packages/statsmodels/tools/_testing.py:19: FutureWarning: pandas.util.testing is deprecated. Use the functions in the public API at pandas.testing instead.\n",
      "  import pandas.util.testing as tm\n",
      "/usr/local/lib/python3.6/dist-packages/sklearn/externals/joblib/__init__.py:15: FutureWarning: sklearn.externals.joblib is deprecated in 0.21 and will be removed in 0.23. Please import this functionality directly from joblib, which can be installed with: pip install joblib. If this warning is raised when loading pickled models, you may need to re-serialize those models with scikit-learn 0.21+.\n",
      "  warnings.warn(msg, category=FutureWarning)\n"
     ]
    }
   ],
   "source": [
    "import pandas as pd\n",
    "import numpy as np\n",
    "import time\n",
    "import seaborn as sns\n",
    "import model\n",
    "import joblib\n",
    "import warnings"
   ]
  },
  {
   "cell_type": "code",
   "execution_count": 0,
   "metadata": {
    "colab": {
     "base_uri": "https://localhost:8080/",
     "height": 1000
    },
    "colab_type": "code",
    "executionInfo": {
     "elapsed": 2368630,
     "status": "ok",
     "timestamp": 1588669705786,
     "user": {
      "displayName": "Trinh Khanh",
      "photoUrl": "",
      "userId": "17861245512727474138"
     },
     "user_tz": -420
    },
    "id": "nfFvpI_W8dEq",
    "outputId": "9dac7164-78ec-49c4-d95e-eeeed00bbbc5"
   },
   "outputs": [
    {
     "name": "stdout",
     "output_type": "stream",
     "text": [
      "Start loading imputed data...\n",
      "Done loading imputed data! \n",
      "\n",
      "****************************************************************************************************\n",
      "****************************************************************************************************\n",
      "\n",
      "Start getting out of fold set for DecisionTreeClassifier...\n",
      "Base classifier DecisionTreeClassifier_0: AUC = 0.88 | Accuracy = 0.83% | Precision score: 0.84 | Recall score: 0.83\n",
      "Base classifier DecisionTreeClassifier_1: AUC = 0.88 | Accuracy = 0.83% | Precision score: 0.84 | Recall score: 0.82\n",
      "Base classifier DecisionTreeClassifier_2: AUC = 0.88 | Accuracy = 0.84% | Precision score: 0.84 | Recall score: 0.83\n",
      "Base classifier DecisionTreeClassifier_3: AUC = 0.88 | Accuracy = 0.83% | Precision score: 0.84 | Recall score: 0.83\n",
      "Base classifier DecisionTreeClassifier_4: AUC = 0.87 | Accuracy = 0.83% | Precision score: 0.83 | Recall score: 0.83\n",
      "Done getting out of fold set for DecisionTreeClassifier. Time taken = 14.4(s) \n",
      "\n",
      "Start getting out of fold set for AdaBoostClassifier...\n"
     ]
    },
    {
     "name": "stderr",
     "output_type": "stream",
     "text": [
      "/usr/local/lib/python3.6/dist-packages/sklearn/utils/validation.py:760: DataConversionWarning: A column-vector y was passed when a 1d array was expected. Please change the shape of y to (n_samples, ), for example using ravel().\n",
      "  y = column_or_1d(y, warn=True)\n"
     ]
    },
    {
     "name": "stdout",
     "output_type": "stream",
     "text": [
      "Base classifier AdaBoostClassifier_0: AUC = 0.99 | Accuracy = 0.94% | Precision score: 0.92 | Recall score: 0.96\n"
     ]
    },
    {
     "name": "stderr",
     "output_type": "stream",
     "text": [
      "/usr/local/lib/python3.6/dist-packages/sklearn/utils/validation.py:760: DataConversionWarning: A column-vector y was passed when a 1d array was expected. Please change the shape of y to (n_samples, ), for example using ravel().\n",
      "  y = column_or_1d(y, warn=True)\n"
     ]
    },
    {
     "name": "stdout",
     "output_type": "stream",
     "text": [
      "Base classifier AdaBoostClassifier_1: AUC = 0.99 | Accuracy = 0.94% | Precision score: 0.92 | Recall score: 0.95\n"
     ]
    },
    {
     "name": "stderr",
     "output_type": "stream",
     "text": [
      "/usr/local/lib/python3.6/dist-packages/sklearn/utils/validation.py:760: DataConversionWarning: A column-vector y was passed when a 1d array was expected. Please change the shape of y to (n_samples, ), for example using ravel().\n",
      "  y = column_or_1d(y, warn=True)\n"
     ]
    },
    {
     "name": "stdout",
     "output_type": "stream",
     "text": [
      "Base classifier AdaBoostClassifier_2: AUC = 0.99 | Accuracy = 0.94% | Precision score: 0.92 | Recall score: 0.96\n"
     ]
    },
    {
     "name": "stderr",
     "output_type": "stream",
     "text": [
      "/usr/local/lib/python3.6/dist-packages/sklearn/utils/validation.py:760: DataConversionWarning: A column-vector y was passed when a 1d array was expected. Please change the shape of y to (n_samples, ), for example using ravel().\n",
      "  y = column_or_1d(y, warn=True)\n"
     ]
    },
    {
     "name": "stdout",
     "output_type": "stream",
     "text": [
      "Base classifier AdaBoostClassifier_3: AUC = 0.99 | Accuracy = 0.94% | Precision score: 0.93 | Recall score: 0.96\n",
      "Base classifier AdaBoostClassifier_4: AUC = 0.99 | Accuracy = 0.94% | Precision score: 0.92 | Recall score: 0.96\n",
      "Done getting out of fold set for AdaBoostClassifier. Time taken = 2206.9(s) \n",
      "\n",
      "Start getting out of fold set for RandomForestClassifier...\n"
     ]
    },
    {
     "name": "stderr",
     "output_type": "stream",
     "text": [
      "drive/My Drive/Colab Notebooks/Income_prediction/model.py:91: DataConversionWarning: A column-vector y was passed when a 1d array was expected. Please change the shape of y to (n_samples,), for example using ravel().\n",
      "  clf.fit(X_train, y_train)\n"
     ]
    },
    {
     "name": "stdout",
     "output_type": "stream",
     "text": [
      "Base classifier RandomForestClassifier_0: AUC = 0.97 | Accuracy = 0.88% | Precision score: 0.83 | Recall score: 0.96\n"
     ]
    },
    {
     "name": "stderr",
     "output_type": "stream",
     "text": [
      "drive/My Drive/Colab Notebooks/Income_prediction/model.py:91: DataConversionWarning: A column-vector y was passed when a 1d array was expected. Please change the shape of y to (n_samples,), for example using ravel().\n",
      "  clf.fit(X_train, y_train)\n"
     ]
    },
    {
     "name": "stdout",
     "output_type": "stream",
     "text": [
      "Base classifier RandomForestClassifier_1: AUC = 0.97 | Accuracy = 0.87% | Precision score: 0.82 | Recall score: 0.96\n"
     ]
    },
    {
     "name": "stderr",
     "output_type": "stream",
     "text": [
      "drive/My Drive/Colab Notebooks/Income_prediction/model.py:91: DataConversionWarning: A column-vector y was passed when a 1d array was expected. Please change the shape of y to (n_samples,), for example using ravel().\n",
      "  clf.fit(X_train, y_train)\n"
     ]
    },
    {
     "name": "stdout",
     "output_type": "stream",
     "text": [
      "Base classifier RandomForestClassifier_2: AUC = 0.97 | Accuracy = 0.88% | Precision score: 0.83 | Recall score: 0.96\n"
     ]
    },
    {
     "name": "stderr",
     "output_type": "stream",
     "text": [
      "drive/My Drive/Colab Notebooks/Income_prediction/model.py:91: DataConversionWarning: A column-vector y was passed when a 1d array was expected. Please change the shape of y to (n_samples,), for example using ravel().\n",
      "  clf.fit(X_train, y_train)\n"
     ]
    },
    {
     "name": "stdout",
     "output_type": "stream",
     "text": [
      "Base classifier RandomForestClassifier_3: AUC = 0.97 | Accuracy = 0.88% | Precision score: 0.83 | Recall score: 0.96\n"
     ]
    },
    {
     "name": "stderr",
     "output_type": "stream",
     "text": [
      "drive/My Drive/Colab Notebooks/Income_prediction/model.py:91: DataConversionWarning: A column-vector y was passed when a 1d array was expected. Please change the shape of y to (n_samples,), for example using ravel().\n",
      "  clf.fit(X_train, y_train)\n"
     ]
    },
    {
     "name": "stdout",
     "output_type": "stream",
     "text": [
      "Base classifier RandomForestClassifier_4: AUC = 0.97 | Accuracy = 0.88% | Precision score: 0.82 | Recall score: 0.96\n",
      "Done getting out of fold set for RandomForestClassifier. Time taken = 125.1(s) \n",
      "\n",
      "Start fitting Meta classifier...\n"
     ]
    },
    {
     "name": "stderr",
     "output_type": "stream",
     "text": [
      "/usr/local/lib/python3.6/dist-packages/sklearn/utils/validation.py:760: DataConversionWarning: A column-vector y was passed when a 1d array was expected. Please change the shape of y to (n_samples, ), for example using ravel().\n",
      "  y = column_or_1d(y, warn=True)\n"
     ]
    },
    {
     "name": "stdout",
     "output_type": "stream",
     "text": [
      "Accuracy: 92.25%\n",
      "Meta Classifier AUC: 92.41%\n",
      "Precision score: 0.42\n",
      "Recall score: 0.63\n",
      "Done fitting meta classifier. Time taken = 0.6(s) \n",
      "\n",
      "Start dumping Meta classifier...\n",
      "Done dumping Meta classifier ! \n",
      "\n"
     ]
    }
   ],
   "source": [
    "def build_model(X_train, y_train, X_test, y_test, n_fold, seed):\n",
    "    modeler = model.Model()\n",
    "    clf_list = [\n",
    "                modeler.clf_0, \n",
    "                modeler.clf_1, \n",
    "                modeler.clf_2, \n",
    "                ]\n",
    "    meta_train, meta_test = modeler.generate_metadata(X_train, y_train, X_test, y_test, clf_list, modeler.generate_oof, n_fold, seed)\n",
    "    # Fit Meta classifier\n",
    "    meta_clf = modeler.model_predict(modeler.clf_3, meta_train, y_train, meta_test, y_test, seed)\n",
    "    print('Start dumping Meta classifier...')\n",
    "    joblib.dump(meta_clf, 'meta_clf.pkl') \n",
    "    print('Done dumping Meta classifier ! \\n')\n",
    "    return meta_clf, meta_train, meta_test\n",
    "if __name__=='__main__':\n",
    "    print('Start loading imputed data...')\n",
    "    X_train = pd.read_csv(prefix+'resampled_data/X_train.csv')\n",
    "    y_train = pd.read_csv(prefix+'resampled_data/y_train.csv')\n",
    "    X_test = pd.read_csv(prefix+'resampled_data/X_test.csv')\n",
    "    y_test = pd.read_csv(prefix+'resampled_data/y_test.csv')\n",
    "    print('Done loading imputed data! \\n')\n",
    "    print('*'*100) \n",
    "    print('*'*100+'\\n')\n",
    "    seed = 1003\n",
    "    n_fold = 5\n",
    "    modeler = model.Model()\n",
    "    colab = False\n",
    "    url = prefix+'census/census-income.data'\n",
    "    meta_clf, meta_train, meta_test = build_model(X_train, y_train, X_test, y_test, n_fold, seed)"
   ]
  },
  {
   "cell_type": "markdown",
   "metadata": {
    "colab_type": "text",
    "id": "G3z2wODU8dEt"
   },
   "source": [
    "### Base classifier correlation matrix"
   ]
  },
  {
   "cell_type": "code",
   "execution_count": 0,
   "metadata": {
    "colab": {
     "base_uri": "https://localhost:8080/",
     "height": 394
    },
    "colab_type": "code",
    "executionInfo": {
     "elapsed": 1681,
     "status": "ok",
     "timestamp": 1588671851325,
     "user": {
      "displayName": "Trinh Khanh",
      "photoUrl": "",
      "userId": "17861245512727474138"
     },
     "user_tz": -420
    },
    "id": "0YV-s10_8dEt",
    "outputId": "87f08759-b70b-4901-83de-9c4e234f20f8"
   },
   "outputs": [
    {
     "data": {
      "text/plain": [
       "<matplotlib.axes._subplots.AxesSubplot at 0x7fb1ed935048>"
      ]
     },
     "execution_count": 6,
     "metadata": {
      "tags": []
     },
     "output_type": "execute_result"
    },
    {
     "data": {
      "image/png": "[encoded data removed]",
      "text/plain": [
       "<Figure size 432x288 with 2 Axes>"
      ]
     },
     "metadata": {
      "needs_background": "light",
      "tags": []
     },
     "output_type": "display_data"
    }
   ],
   "source": [
    "corr = meta_train.corr()\n",
    "sns.heatmap(corr, \n",
    "        xticklabels=corr.columns,\n",
    "        yticklabels=corr.columns)"
   ]
  },
  {
   "cell_type": "markdown",
   "metadata": {},
   "source": [
    "=> Random Forest and AdaBoost are positively correlated => reduce the variance of base classifers\n",
    "\n",
    "=> Further improvement: Replace Random Forest or AdaBoost by other algorithms"
   ]
  },
  {
   "cell_type": "markdown",
   "metadata": {},
   "source": [
    "### Model evaluation"
   ]
  },
  {
   "cell_type": "markdown",
   "metadata": {},
   "source": [
    "With resampled training data, the performance of the meta model has been improved significantly with regard to Precision score and Accuracy\n",
    "\n",
    "Most of evaluation metrics remain unchanged, except Recall score (a fall of 0.33, but still good enough)\n"
   ]
  }
 ],
 "metadata": {
  "accelerator": "GPU",
  "colab": {
   "collapsed_sections": [],
   "name": "model_dev_resample.ipynb",
   "provenance": []
  },
  "kernelspec": {
   "display_name": "Python 3",
   "language": "python",
   "name": "python3"
  },
  "language_info": {
   "codemirror_mode": {
    "name": "ipython",
    "version": 3
   },
   "file_extension": ".py",
   "mimetype": "text/x-python",
   "name": "python",
   "nbconvert_exporter": "python",
   "pygments_lexer": "ipython3",
   "version": "3.7.4"
  }
 },
 "nbformat": 4,
 "nbformat_minor": 1
}
